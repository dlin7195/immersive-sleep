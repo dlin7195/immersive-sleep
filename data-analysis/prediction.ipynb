{
 "metadata": {
  "language_info": {
   "codemirror_mode": {
    "name": "ipython",
    "version": 3
   },
   "file_extension": ".py",
   "mimetype": "text/x-python",
   "name": "python",
   "nbconvert_exporter": "python",
   "pygments_lexer": "ipython3",
   "version": "3.8.8-final"
  },
  "orig_nbformat": 2,
  "kernelspec": {
   "name": "python388jvsc74a57bd0b83e733f0d47cf5a0d74152b675a114ab04a43da82418fd2eecfcd3c2673ef84",
   "display_name": "Python 3.8.8 64-bit"
  },
  "metadata": {
   "interpreter": {
    "hash": "b83e733f0d47cf5a0d74152b675a114ab04a43da82418fd2eecfcd3c2673ef84"
   }
  }
 },
 "nbformat": 4,
 "nbformat_minor": 2,
 "cells": [
  {
   "cell_type": "code",
   "execution_count": 1,
   "metadata": {},
   "outputs": [],
   "source": [
    "import numpy as np\n",
    "from sklearn.linear_model import LinearRegression\n",
    "from sklearn.model_selection import train_test_split\n",
    "from sklearn.tree import DecisionTreeClassifier"
   ]
  },
  {
   "source": [
    "days = np.array([1, 2, 3, 4, 5, 6, 7, 8, 9, 10, 11, 12,13, 14])\n",
    "allDays = days[:, None]\n",
    "#breathing rate array\n",
    "br = np.array([0.20, 0.24, 0.21, 0.25, 0.16, 0.30, 0.19, 0.35, 0.30, 0.36, 0.30, 0.31, 0.24, 0.30 ])\n",
    "\n",
    "#oxygen saturation array\n",
    "os = np.array([95, 95, 96, 95, 95, 95, 96, 95, 94, 95, 96, 96, 95, 96 ])"
   ],
   "cell_type": "code",
   "metadata": {},
   "execution_count": 2,
   "outputs": []
  },
  {
   "cell_type": "code",
   "execution_count": 3,
   "metadata": {},
   "outputs": [],
   "source": [
    "#Looks at what the values will be in a week from last date\n",
    "predictedDay = days[13] + 7\n",
    "forPrediction = np.array([predictedDay])\n",
    "arrayforPrediction = forPrediction[:, None]"
   ]
  },
  {
   "cell_type": "code",
   "execution_count": 4,
   "metadata": {},
   "outputs": [],
   "source": [
    "#Linear Regression model applied\n",
    "breathingRate = LinearRegression().fit(allDays, br)\n",
    "oxygenSaturation = LinearRegression().fit(allDays, os)"
   ]
  },
  {
   "cell_type": "code",
   "execution_count": 5,
   "metadata": {},
   "outputs": [],
   "source": [
    "predictRate = breathingRate.predict(arrayforPrediction)\n",
    "predictOs = oxygenSaturation.predict(arrayforPrediction)"
   ]
  },
  {
   "cell_type": "code",
   "execution_count": 6,
   "metadata": {},
   "outputs": [],
   "source": [
    "def predictions(): \n",
    "    highBreathingRate = lowBreathingRate = lowOs = False\n",
    "    if (predictRate[0] > 0.33):\n",
    "        highBreathingRate = True\n",
    "    if(predictRate[0] < 0.12):\n",
    "        lowBreathingRate = True\n",
    "    if(predictOs[0] < 90):\n",
    "        lowOs= True \n",
    "    return [highBreathingRate, lowBreathingRate, lowOs]"
   ]
  },
  {
   "cell_type": "code",
   "execution_count": 7,
   "metadata": {},
   "outputs": [],
   "source": [
    "#accelerometer data\n",
    "x= np.array([1, 2,3, 10, 12,14,16,18,20]).reshape(-1,1)\n",
    "#x = initialx[:, None]\n",
    "y= np.array([10, 15, 20,30,43, 50,1430, 13, 1]).reshape(-1,1)\n",
    "#y= initialy[:, None]\n",
    "z= np.array([10, 12, 15, 16, 20, 22, 27, 28, 29])\n",
    "#z= initialz[:, None]"
   ]
  },
  {
   "cell_type": "code",
   "execution_count": 8,
   "metadata": {},
   "outputs": [],
   "source": [
    "x_train, x_test, y_train, y_test, z_train, z_test = train_test_split(x,y,z, test_size = 0.5, shuffle= False, random_state =4)\n",
    "classificationModel = DecisionTreeClassifier(random_state=0)\n",
    "classificationModel.fit(x_train, y_train, z_train)\n",
    "predictedvalues = classificationModel.predict(x_test)\n",
    "predictedvalues1 = classificationModel.predict(y_test)\n",
    "z_test = z_test.reshape(-1,1)\n",
    "predictedvalues2 = classificationModel.predict(z_test)"
   ]
  },
  {
   "cell_type": "code",
   "execution_count": 9,
   "metadata": {},
   "outputs": [
    {
     "output_type": "stream",
     "name": "stdout",
     "text": [
      "[30 30 30 30 30]\n[30 30 30 30 10]\n[30 30 30 30 30]\n"
     ]
    }
   ],
   "source": [
    "print(predictedvalues)\n",
    "print(predictedvalues1)\n",
    "print(predictedvalues2)"
   ]
  }
 ]
}