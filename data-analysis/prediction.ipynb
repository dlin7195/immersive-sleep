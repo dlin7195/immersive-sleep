{
 "metadata": {
  "language_info": {
   "codemirror_mode": {
    "name": "ipython",
    "version": 3
   },
   "file_extension": ".py",
   "mimetype": "text/x-python",
   "name": "python",
   "nbconvert_exporter": "python",
   "pygments_lexer": "ipython3",
   "version": "3.8.8-final"
  },
  "orig_nbformat": 2,
  "kernelspec": {
   "name": "python388jvsc74a57bd0b83e733f0d47cf5a0d74152b675a114ab04a43da82418fd2eecfcd3c2673ef84",
   "display_name": "Python 3.8.8 64-bit"
  },
  "metadata": {
   "interpreter": {
    "hash": "b83e733f0d47cf5a0d74152b675a114ab04a43da82418fd2eecfcd3c2673ef84"
   }
  }
 },
 "nbformat": 4,
 "nbformat_minor": 2,
 "cells": [
  {
   "cell_type": "code",
   "execution_count": 1,
   "metadata": {},
   "outputs": [],
   "source": [
    "import numpy as np\n",
    "from sklearn.linear_model import LinearRegression\n",
    "from sklearn.model_selection import train_test_split\n",
    "from sklearn.tree import DecisionTreeClassifier"
   ]
  },
  {
   "source": [
    "days = np.array([1, 2, 3, 4, 5, 6, 7, 8, 9, 10, 11, 12,13, 14])\n",
    "allDays = days[:, None]\n",
    "#breathing rate array\n",
    "br = np.array([0.20, 0.24, 0.21, 0.25, 0.16, 0.30, 0.19, 0.35, 0.30, 0.36, 0.30, 0.31, 0.24, 0.30 ])\n",
    "\n",
    "#oxygen saturation array\n",
    "os = np.array([95, 95, 96, 95, 95, 95, 96, 95, 94, 95, 96, 96, 95, 96 ])"
   ],
   "cell_type": "code",
   "metadata": {},
   "execution_count": 2,
   "outputs": []
  },
  {
   "cell_type": "code",
   "execution_count": 3,
   "metadata": {},
   "outputs": [],
   "source": [
    "#Looks at what the values will be in a week from last date\n",
    "predictedDay = days[13] + 7\n",
    "forPrediction = np.array([predictedDay])\n",
    "arrayforPrediction = forPrediction[:, None]"
   ]
  },
  {
   "cell_type": "code",
   "execution_count": 4,
   "metadata": {},
   "outputs": [],
   "source": [
    "#Linear Regression model applied\n",
    "breathingRate = LinearRegression().fit(allDays, br)\n",
    "oxygenSaturation = LinearRegression().fit(allDays, os)"
   ]
  },
  {
   "cell_type": "code",
   "execution_count": 5,
   "metadata": {},
   "outputs": [],
   "source": [
    "predictRate = breathingRate.predict(arrayforPrediction)\n",
    "predictOs = oxygenSaturation.predict(arrayforPrediction)"
   ]
  },
  {
   "cell_type": "code",
   "execution_count": 6,
   "metadata": {},
   "outputs": [],
   "source": [
    "def predictions(): \n",
    "    highBreathingRate = lowBreathingRate = lowOs = False\n",
    "    if (predictRate[0] > 0.33):\n",
    "        highBreathingRate = True\n",
    "    if(predictRate[0] < 0.12):\n",
    "        lowBreathingRate = True\n",
    "    if(predictOs[0] < 90):\n",
    "        lowOs= True \n",
    "    return [highBreathingRate, lowBreathingRate, lowOs]"
   ]
  },
  {
   "cell_type": "code",
   "execution_count": null,
   "metadata": {},
   "outputs": [],
   "source": [
    "\n",
    "#x-axis accelerometer data\n",
    "xAxis= np.array([1, 2,3, 10, 12,14,16,18,20]).reshape(-1,1)\n",
    "predictionForXAxis= np.array([True, False,True, False, True,False,True,False,False]).reshape(-1,1)\n",
    "\n",
    "xAxis_train, xAxis_test, xAxis_y_train, xAxis_y_test= train_test_split(xAxis,predictionForXAxis, test_size = 0.5, shuffle= False, random_state =0)\n",
    "classificationModelx = DecisionTreeClassifier(random_state=0)\n",
    "classificationModelx.fit(xAxis_train, xAxis_y_train)\n",
    "\n",
    "currentXValue = 35\n",
    "xPrediction = np.array([currentXValue]).reshape(-1,1)\n",
    "predictX = classificationModelx.predict(xPrediction)\n"
   ]
  },
  {
   "cell_type": "code",
   "execution_count": null,
   "metadata": {},
   "outputs": [],
   "source": [
    "#y-axis accelerometer data\n",
    "yAxis= np.array([1, 2,3, 10, 12,14,16,18,20]).reshape(-1,1)\n",
    "predictionForYAxis= np.array([True,False,True, False,True,False,True,False,False]).reshape(-1,1)\n",
    "\n",
    "yAxis_train, yAxis_test, yAxis_y_train, yAxis_y_test= train_test_split(yAxis,predictionForYAxis, test_size = 0.5, shuffle= False, random_state =0)\n",
    "classificationModely = DecisionTreeClassifier(random_state=0)\n",
    "classificationModely.fit(yAxis_train, yAxis_y_train)\n",
    "\n",
    "currentYValue = 3\n",
    "yPrediction = np.array([currentYValue]).reshape(-1,1)\n",
    "predictY = classificationModely.predict(yPrediction)\n"
   ]
  },
  {
   "cell_type": "code",
   "execution_count": null,
   "metadata": {},
   "outputs": [],
   "source": [
    "#z-axis accelerometer data\n",
    "zAxis= np.array([1, 2,3, 10, 12,14,16,18,20]).reshape(-1,1)\n",
    "predictionForZAxis= np.array([True,False,True, False,True,False,True,False,False]).reshape(-1,1)\n",
    "\n",
    "zAxis_train, zAxis_test, zAxis_y_train, zAxis_y_test= train_test_split(zAxis,predictionForZAxis, test_size = 0.5, shuffle= False, random_state =0)\n",
    "classificationModelz = DecisionTreeClassifier(random_state=0)\n",
    "classificationModelz.fit(zAxis_train, zAxis_y_train)\n",
    "\n",
    "currentZValue = 6\n",
    "zPrediction= np.array([currentZValue]).reshape(-1,1)\n",
    "predictZ = classificationModelz.predict(zPrediction)"
   ]
  },
  {
   "cell_type": "code",
   "execution_count": null,
   "metadata": {},
   "outputs": [],
   "source": [
    "def seizure () : \n",
    "    seizure =False\n",
    "    countingTrue=0\n",
    "    if (predictX[0] == True):\n",
    "        countingTrue = countingTrue + 1\n",
    "    if (predictY[0] == True):\n",
    "        countingTrue= countingTrue + 1\n",
    "    if (predictZ[0]==True):\n",
    "        countingTrue= countingTrue + 1\n",
    "    if ((countingTrue == 2)  | (countingTrue == 3)):\n",
    "        seizure = True\n",
    "    return seizure\n",
    "print(seizure())"
   ]
  }
 ]
}