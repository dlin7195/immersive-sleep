{
 "metadata": {
  "language_info": {
   "codemirror_mode": {
    "name": "ipython",
    "version": 3
   },
   "file_extension": ".py",
   "mimetype": "text/x-python",
   "name": "python",
   "nbconvert_exporter": "python",
   "pygments_lexer": "ipython3",
   "version": "3.8.8-final"
  },
  "orig_nbformat": 2,
  "kernelspec": {
   "name": "python388jvsc74a57bd0b83e733f0d47cf5a0d74152b675a114ab04a43da82418fd2eecfcd3c2673ef84",
   "display_name": "Python 3.8.8 64-bit"
  },
  "metadata": {
   "interpreter": {
    "hash": "b83e733f0d47cf5a0d74152b675a114ab04a43da82418fd2eecfcd3c2673ef84"
   }
  }
 },
 "nbformat": 4,
 "nbformat_minor": 2,
 "cells": [
  {
   "cell_type": "code",
   "execution_count": 1,
   "metadata": {},
   "outputs": [],
   "source": [
    "import numpy as np\n",
    "from sklearn.linear_model import LinearRegression\n",
    "from sklearn.model_selection import train_test_split\n",
    "from sklearn.tree import DecisionTreeClassifier"
   ]
  },
  {
   "source": [
    "days = np.array([1, 2, 3, 4, 5, 6, 7, 8])\n",
    "allDays = days[:, None]\n",
    "#breathing rate array\n",
    "br = np.array([0.20, 0.24, 0.21, 0.25, 0.16, 0.30, 0.19, 0.35])\n",
    "\n",
    "#oxygen saturation array\n",
    "REM = np.array([60, 70, 90, 70, 60, 70, 70, 65])"
   ],
   "cell_type": "code",
   "metadata": {},
   "execution_count": 2,
   "outputs": []
  },
  {
   "cell_type": "code",
   "execution_count": 3,
   "metadata": {},
   "outputs": [],
   "source": [
    "#Looks at what the values will be in a week from last date\n",
    "predictedDay = days[7] + 7\n",
    "forPrediction = np.array([predictedDay])\n",
    "arrayforPrediction = forPrediction[:, None]"
   ]
  },
  {
   "cell_type": "code",
   "execution_count": 4,
   "metadata": {},
   "outputs": [],
   "source": [
    "#Linear Regression model applied\n",
    "breathingRate = LinearRegression().fit(allDays, br)\n",
    "modelForREM = LinearRegression().fit(allDays, REM)"
   ]
  },
  {
   "cell_type": "code",
   "execution_count": 5,
   "metadata": {},
   "outputs": [],
   "source": [
    "predictRate = breathingRate.predict(arrayforPrediction)\n",
    "predictREM = modelForREM.predict(arrayforPrediction)"
   ]
  },
  {
   "cell_type": "code",
   "execution_count": 6,
   "metadata": {},
   "outputs": [],
   "source": [
    "def predictions(): \n",
    "    highBreathingRate = lowBreathingRate = lowREM = False\n",
    "    if (predictRate[0] > 0.33):\n",
    "        highBreathingRate = True\n",
    "    if(predictRate[0] < 0.12):\n",
    "        lowBreathingRate = True\n",
    "    if(predictREM[0] < 96):\n",
    "        lowREM= True \n",
    "    return [highBreathingRate, lowBreathingRate, lowREM]"
   ]
  },
  {
   "cell_type": "code",
   "execution_count": null,
   "metadata": {},
   "outputs": [],
   "source": [
    "xArray = np.array([1,2,3,4,5,9,8,10,123,144,1250,30,60,4])\n",
    "change = abs(np.diff(xArray))\n",
    "positionofMax = np.argmax(change)\n",
    "\n",
    "#arbitrary value for now\n",
    "valueforseizure = 10\n",
    "seizure = False\n",
    "\n",
    "if (len(change) > positionofMax + 1):\n",
    "    if ((change[positionofMax+1] > valueforseizure) & (change[positionofMax-1] > valueforseizure)):\n",
    "        seizure = True\n",
    "else: \n",
    "  if (change[positionofMax-1] > valueforseizure):\n",
    "    seizure = True"
   ]
  }
 ]
}