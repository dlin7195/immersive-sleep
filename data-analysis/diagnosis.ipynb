{
 "metadata": {
  "language_info": {
   "codemirror_mode": {
    "name": "ipython",
    "version": 3
   },
   "file_extension": ".py",
   "mimetype": "text/x-python",
   "name": "python",
   "nbconvert_exporter": "python",
   "pygments_lexer": "ipython3",
   "version": "3.8.8-final"
  },
  "orig_nbformat": 2,
  "kernelspec": {
   "name": "python388jvsc74a57bd0b83e733f0d47cf5a0d74152b675a114ab04a43da82418fd2eecfcd3c2673ef84",
   "display_name": "Python 3.8.8 64-bit"
  },
  "metadata": {
   "interpreter": {
    "hash": "b83e733f0d47cf5a0d74152b675a114ab04a43da82418fd2eecfcd3c2673ef84"
   }
  }
 },
 "nbformat": 4,
 "nbformat_minor": 2,
 "cells": [
  {
   "cell_type": "code",
   "execution_count": 4,
   "metadata": {},
   "outputs": [],
   "source": [
    "import numpy as np"
   ]
  },
  {
   "cell_type": "code",
   "execution_count": 5,
   "metadata": {},
   "outputs": [],
   "source": [
    "#array with pulseox, temeprature, bpm, breathingrate \n",
    "\n",
    "basicdata = [89, 40, 101, 0.34]"
   ]
  },
  {
   "cell_type": "code",
   "execution_count": 6,
   "metadata": {},
   "outputs": [],
   "source": [
    "#temperature greater than 37.8C, bpm is greater than 100, and breathing rate is greater than 0.33, \n",
    "\n",
    "def analysis(data): \n",
    "    pneumonia = bradycardia = tachycardia = False\n",
    "    if ((data[1]>37.8) & (data[2] > 100) & (data[3]>0.33)):\n",
    "        pneumonia = True\n",
    "    if(data[2] < 60):\n",
    "        bradycardia= True \n",
    "    if (data[2] > 100):\n",
    "        tachycardia = True\n",
    "    return [pneumonia, bradycardia, tachycardia ]\n",
    "\n",
    "#Above array elements are True if it finds symptoms of these diseases, False if it does not"
   ]
  },
  {
   "cell_type": "code",
   "execution_count": 7,
   "metadata": {},
   "outputs": [
    {
     "output_type": "stream",
     "name": "stdout",
     "text": [
      "[True, True, False, True]\n"
     ]
    }
   ],
   "source": [
    "print(analysis(basicdata))"
   ]
  }
 ]
}