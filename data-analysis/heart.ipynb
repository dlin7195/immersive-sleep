{
 "metadata": {
  "language_info": {
   "codemirror_mode": {
    "name": "ipython",
    "version": 3
   },
   "file_extension": ".py",
   "mimetype": "text/x-python",
   "name": "python",
   "nbconvert_exporter": "python",
   "pygments_lexer": "ipython3",
   "version": "3.8.8-final"
  },
  "orig_nbformat": 2,
  "kernelspec": {
   "name": "python388jvsc74a57bd0b83e733f0d47cf5a0d74152b675a114ab04a43da82418fd2eecfcd3c2673ef84",
   "display_name": "Python 3.8.8 64-bit"
  },
  "metadata": {
   "interpreter": {
    "hash": "b83e733f0d47cf5a0d74152b675a114ab04a43da82418fd2eecfcd3c2673ef84"
   }
  }
 },
 "nbformat": 4,
 "nbformat_minor": 2,
 "cells": [
  {
   "cell_type": "code",
   "execution_count": 1,
   "metadata": {},
   "outputs": [],
   "source": [
    "import pandas as pd\n",
    "import numpy as np\n",
    "import io\n",
    "import matplotlib.pyplot as plt\n",
    "import heartpy as hp"
   ]
  },
  {
   "cell_type": "code",
   "execution_count": 2,
   "metadata": {},
   "outputs": [],
   "source": [
    "linktocsv=  \"https://raw.githubusercontent.com/williamchong256/immersive-sleep/dlin7195-patch-2/hardware/MAX30102/ir_red.csv\""
   ]
  },
  {
   "cell_type": "code",
   "execution_count": 3,
   "metadata": {},
   "outputs": [],
   "source": [
    "rawData = pd.read_csv(linktocsv, skiprows=1000)\n",
    "singleColumn = pd.DataFrame(rawData)"
   ]
  },
  {
   "cell_type": "code",
   "execution_count": null,
   "metadata": {},
   "outputs": [],
   "source": [
    "IR = singleColumn[singleColumn.columns[0]].head(1000)\n",
    "Red = singleColumn[singleColumn.columns[1]].head(1000)\n",
    "\n",
    "redValue = (max(Red) - min(Red))/min(Red)\n",
    "IRValue = (max(IR)-min(IR))/min(IR)\n",
    "ratio = redValue/IRValue\n",
    "#if ratio > 1 , >85% SpO2"
   ]
  },
  {
   "cell_type": "code",
   "execution_count": null,
   "metadata": {},
   "outputs": [],
   "source": [
    "singleColumn = singleColumn[singleColumn.columns[0]]\n",
    "singleColumn= singleColumn.head(45000)"
   ]
  },
  {
   "cell_type": "code",
   "execution_count": 4,
   "metadata": {},
   "outputs": [],
   "source": [
    "#400 is in reference to sample rate\n",
    "bandpassFilter= hp.filter_signal(singleColumn,[0.75, 4], 400, order=2, filtertype='bandpass')\n",
    "data, calculatedValues = hp.process(hp.scale_data(bandpassFilter), 400)\n",
    "\n",
    "bpm = calculatedValues['bpm']\n",
    "breathingrate = calculatedValues['breathingrate']\n"
   ]
  },
  {
   "cell_type": "code",
   "execution_count": null,
   "metadata": {},
   "outputs": [],
   "source": [
    "rmssd = calculatedValues['rmssd']\n",
    "lowHRV = False\n",
    "if (rmssd<21):\n",
    "    lowHRV = True"
   ]
  },
  {
   "cell_type": "code",
   "execution_count": 5,
   "metadata": {},
   "outputs": [
    {
     "output_type": "stream",
     "name": "stdout",
     "text": [
      "67.99625217507696\n0.26666666666666666\n"
     ]
    }
   ],
   "source": [
    "print(bpm)\n",
    "print(breathingrate)"
   ]
  }
 ]
}