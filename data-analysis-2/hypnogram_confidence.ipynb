{
 "cells": [
  {
   "cell_type": "code",
   "execution_count": 22,
   "id": "psychological-approach",
   "metadata": {},
   "outputs": [],
   "source": [
    "import mne\n",
    "import yasa\n",
    "import numpy as np\n",
    "import pandas as pd\n",
    "import matplotlib.pyplot as plt\n",
    "from matplotlib.pyplot import figure"
   ]
  },
  {
   "cell_type": "code",
   "execution_count": 13,
   "id": "defensive-market",
   "metadata": {},
   "outputs": [
    {
     "name": "stdout",
     "output_type": "stream",
     "text": [
      "Channels: ['F3', 'F4', 'C3', 'C4', 'O1', 'O2', 'EOG1', 'EOG2', 'EMG1']\n",
      "Frequency: 100.0\n"
     ]
    },
    {
     "data": {
      "text/plain": [
       "<Raw | sub-02_mne_raw.fif, 9 x 294000 (2940.0 s), ~20.2 MB, data loaded>"
      ]
     },
     "execution_count": 13,
     "metadata": {},
     "output_type": "execute_result"
    }
   ],
   "source": [
    "raw = mne.io.read_raw_fif('sub-02_mne_raw.fif', preload=True, verbose=False)\n",
    "print('Channels:', raw.ch_names)\n",
    "print('Frequency:', raw.info['sfreq'])\n",
    "raw"
   ]
  },
  {
   "cell_type": "code",
   "execution_count": 14,
   "id": "pursuant-heating",
   "metadata": {},
   "outputs": [
    {
     "name": "stdout",
     "output_type": "stream",
     "text": [
      "['W' 'W' 'W' 'W' 'W' 'W' 'W' 'W' 'W' 'W' 'W' 'W' 'W' 'N2' 'N2' 'W' 'N2'\n",
      " 'W' 'W' 'W' 'W' 'W' 'W' 'W' 'W' 'W' 'W' 'W' 'W' 'N1' 'N2' 'W' 'N1' 'N1'\n",
      " 'N2' 'N2' 'N2' 'N2' 'N2' 'N2' 'N2' 'N2' 'N2' 'N2' 'N2' 'N2' 'N2' 'N2'\n",
      " 'N2' 'N2' 'N2' 'N2' 'N2' 'N2' 'N2' 'N2' 'N2' 'N2' 'N2' 'N2' 'N2' 'N2'\n",
      " 'N2' 'N2' 'N2' 'N2' 'N3' 'N3' 'N3' 'N3' 'N3' 'N3' 'N3' 'N3' 'N3' 'N3'\n",
      " 'N3' 'N3' 'N3' 'N3' 'N3' 'N3' 'N3' 'N3' 'N3' 'N3' 'N3' 'N3' 'N3' 'N3'\n",
      " 'N3' 'N3' 'N3' 'W' 'N3' 'W' 'W' 'W']\n"
     ]
    },
    {
     "name": "stderr",
     "output_type": "stream",
     "text": [
      "/usr/local/lib/python3.9/site-packages/sklearn/base.py:310: UserWarning: Trying to unpickle estimator LabelEncoder from version 0.23.2 when using version 0.24.1. This might lead to breaking code or invalid results. Use at your own risk.\n",
      "  warnings.warn(\n"
     ]
    }
   ],
   "source": [
    "sls = yasa.SleepStaging(raw, eeg_name=\"C4\", eog_name=\"EOG1\", emg_name=\"EMG1\", metadata=dict(age=21, male=False))\n",
    "y_pred = sls.predict()\n",
    "print(y_pred)"
   ]
  },
  {
   "cell_type": "code",
   "execution_count": 15,
   "id": "bridal-timer",
   "metadata": {},
   "outputs": [
    {
     "data": {
      "text/html": [
       "<div>\n",
       "<style scoped>\n",
       "    .dataframe tbody tr th:only-of-type {\n",
       "        vertical-align: middle;\n",
       "    }\n",
       "\n",
       "    .dataframe tbody tr th {\n",
       "        vertical-align: top;\n",
       "    }\n",
       "\n",
       "    .dataframe thead th {\n",
       "        text-align: right;\n",
       "    }\n",
       "</style>\n",
       "<table border=\"1\" class=\"dataframe\">\n",
       "  <thead>\n",
       "    <tr style=\"text-align: right;\">\n",
       "      <th></th>\n",
       "      <th>N1</th>\n",
       "      <th>N2</th>\n",
       "      <th>N3</th>\n",
       "      <th>R</th>\n",
       "      <th>W</th>\n",
       "    </tr>\n",
       "    <tr>\n",
       "      <th>epoch</th>\n",
       "      <th></th>\n",
       "      <th></th>\n",
       "      <th></th>\n",
       "      <th></th>\n",
       "      <th></th>\n",
       "    </tr>\n",
       "  </thead>\n",
       "  <tbody>\n",
       "    <tr>\n",
       "      <th>0</th>\n",
       "      <td>0.019392</td>\n",
       "      <td>0.033505</td>\n",
       "      <td>0.001639</td>\n",
       "      <td>0.005495</td>\n",
       "      <td>0.939969</td>\n",
       "    </tr>\n",
       "    <tr>\n",
       "      <th>1</th>\n",
       "      <td>0.075906</td>\n",
       "      <td>0.040468</td>\n",
       "      <td>0.001974</td>\n",
       "      <td>0.012812</td>\n",
       "      <td>0.868840</td>\n",
       "    </tr>\n",
       "    <tr>\n",
       "      <th>2</th>\n",
       "      <td>0.012592</td>\n",
       "      <td>0.005998</td>\n",
       "      <td>0.000151</td>\n",
       "      <td>0.002452</td>\n",
       "      <td>0.978806</td>\n",
       "    </tr>\n",
       "    <tr>\n",
       "      <th>3</th>\n",
       "      <td>0.011069</td>\n",
       "      <td>0.006643</td>\n",
       "      <td>0.000039</td>\n",
       "      <td>0.001884</td>\n",
       "      <td>0.980364</td>\n",
       "    </tr>\n",
       "    <tr>\n",
       "      <th>4</th>\n",
       "      <td>0.011321</td>\n",
       "      <td>0.028442</td>\n",
       "      <td>0.000220</td>\n",
       "      <td>0.002674</td>\n",
       "      <td>0.957343</td>\n",
       "    </tr>\n",
       "    <tr>\n",
       "      <th>...</th>\n",
       "      <td>...</td>\n",
       "      <td>...</td>\n",
       "      <td>...</td>\n",
       "      <td>...</td>\n",
       "      <td>...</td>\n",
       "    </tr>\n",
       "    <tr>\n",
       "      <th>93</th>\n",
       "      <td>0.028755</td>\n",
       "      <td>0.078150</td>\n",
       "      <td>0.263581</td>\n",
       "      <td>0.010250</td>\n",
       "      <td>0.619264</td>\n",
       "    </tr>\n",
       "    <tr>\n",
       "      <th>94</th>\n",
       "      <td>0.018776</td>\n",
       "      <td>0.093083</td>\n",
       "      <td>0.575573</td>\n",
       "      <td>0.010271</td>\n",
       "      <td>0.302296</td>\n",
       "    </tr>\n",
       "    <tr>\n",
       "      <th>95</th>\n",
       "      <td>0.029719</td>\n",
       "      <td>0.036139</td>\n",
       "      <td>0.007347</td>\n",
       "      <td>0.005370</td>\n",
       "      <td>0.921425</td>\n",
       "    </tr>\n",
       "    <tr>\n",
       "      <th>96</th>\n",
       "      <td>0.001642</td>\n",
       "      <td>0.005175</td>\n",
       "      <td>0.002520</td>\n",
       "      <td>0.000904</td>\n",
       "      <td>0.989759</td>\n",
       "    </tr>\n",
       "    <tr>\n",
       "      <th>97</th>\n",
       "      <td>0.001098</td>\n",
       "      <td>0.002812</td>\n",
       "      <td>0.000454</td>\n",
       "      <td>0.000220</td>\n",
       "      <td>0.995417</td>\n",
       "    </tr>\n",
       "  </tbody>\n",
       "</table>\n",
       "<p>98 rows × 5 columns</p>\n",
       "</div>"
      ],
      "text/plain": [
       "             N1        N2        N3         R         W\n",
       "epoch                                                  \n",
       "0      0.019392  0.033505  0.001639  0.005495  0.939969\n",
       "1      0.075906  0.040468  0.001974  0.012812  0.868840\n",
       "2      0.012592  0.005998  0.000151  0.002452  0.978806\n",
       "3      0.011069  0.006643  0.000039  0.001884  0.980364\n",
       "4      0.011321  0.028442  0.000220  0.002674  0.957343\n",
       "...         ...       ...       ...       ...       ...\n",
       "93     0.028755  0.078150  0.263581  0.010250  0.619264\n",
       "94     0.018776  0.093083  0.575573  0.010271  0.302296\n",
       "95     0.029719  0.036139  0.007347  0.005370  0.921425\n",
       "96     0.001642  0.005175  0.002520  0.000904  0.989759\n",
       "97     0.001098  0.002812  0.000454  0.000220  0.995417\n",
       "\n",
       "[98 rows x 5 columns]"
      ]
     },
     "execution_count": 15,
     "metadata": {},
     "output_type": "execute_result"
    }
   ],
   "source": [
    "sls.predict_proba()"
   ]
  },
  {
   "cell_type": "code",
   "execution_count": 16,
   "id": "deluxe-person",
   "metadata": {},
   "outputs": [
    {
     "data": {
      "text/plain": [
       "<AxesSubplot:xlabel='Time (30-sec epoch)', ylabel='Probability'>"
      ]
     },
     "execution_count": 16,
     "metadata": {},
     "output_type": "execute_result"
    },
    {
     "data": {
      "image/png": "[encoded data removed]",
      "text/plain": [
       "<Figure size 720x360 with 1 Axes>"
      ]
     },
     "metadata": {
      "needs_background": "light"
     },
     "output_type": "display_data"
    }
   ],
   "source": [
    "sls.plot_predict_proba()"
   ]
  },
  {
   "cell_type": "code",
   "execution_count": 17,
   "id": "apart-carol",
   "metadata": {},
   "outputs": [
    {
     "data": {
      "text/plain": [
       "epoch\n",
       "0     0.939969\n",
       "1     0.868840\n",
       "2     0.978806\n",
       "3     0.980364\n",
       "4     0.957343\n",
       "        ...   \n",
       "93    0.619264\n",
       "94    0.575573\n",
       "95    0.921425\n",
       "96    0.989759\n",
       "97    0.995417\n",
       "Length: 98, dtype: float64"
      ]
     },
     "execution_count": 17,
     "metadata": {},
     "output_type": "execute_result"
    }
   ],
   "source": [
    "confidence = sls.predict_proba().max(1)\n",
    "confidence"
   ]
  },
  {
   "cell_type": "code",
   "execution_count": 32,
   "id": "another-sleeve",
   "metadata": {},
   "outputs": [
    {
     "name": "stdout",
     "output_type": "stream",
     "text": [
      "[0 0 0 0 0 0 0 0 0 0 0 0 0 2 2 0 2 0 0 0 0 0 0 0 0 0 0 0 0 1 2 0 1 1 2 2 2\n",
      " 2 2 2 2 2 2 2 2 2 2 2 2 2 2 2 2 2 2 2 2 2 2 2 2 2 2 2 2 2 3 3 3 3 3 3 3 3\n",
      " 3 3 3 3 3 3 3 3 3 3 3 3 3 3 3 3 3 3 3 0 3 0 0 0]\n"
     ]
    }
   ],
   "source": [
    "stage = y_pred\n",
    "stage[stage=='W']=0 \n",
    "stage[stage=='N1']=1 \n",
    "stage[stage=='N2']=2\n",
    "stage[stage=='N3']=3\n",
    "stage[stage=='R']=4\n",
    "print(stage)"
   ]
  },
  {
   "cell_type": "code",
   "execution_count": 19,
   "id": "guided-monte",
   "metadata": {},
   "outputs": [],
   "source": [
    "data = pd.DataFrame({'Stage': stage, 'Confidence': confidence})\n",
    "data.to_csv(\"hypno_test.csv\")"
   ]
  },
  {
   "cell_type": "code",
   "execution_count": 33,
   "id": "medieval-nickel",
   "metadata": {},
   "outputs": [
    {
     "data": {
      "text/plain": [
       "([<matplotlib.axis.YTick at 0x12acb0430>,\n",
       "  <matplotlib.axis.YTick at 0x12acd0a30>,\n",
       "  <matplotlib.axis.YTick at 0x12ac5a520>,\n",
       "  <matplotlib.axis.YTick at 0x12ae5ac70>,\n",
       "  <matplotlib.axis.YTick at 0x12aebf610>],\n",
       " [Text(0, 0, 'Wake'),\n",
       "  Text(0, 1, 'N1'),\n",
       "  Text(0, 2, 'N2'),\n",
       "  Text(0, 3, 'N3'),\n",
       "  Text(0, 4, 'REM')])"
      ]
     },
     "execution_count": 33,
     "metadata": {},
     "output_type": "execute_result"
    },
    {
     "data": {
      "image/png": "[encoded data removed]",
      "text/plain": [
       "<Figure size 720x288 with 1 Axes>"
      ]
     },
     "metadata": {
      "needs_background": "light"
     },
     "output_type": "display_data"
    }
   ],
   "source": [
    "csv = np.loadtxt(\"hypno_test.csv\", delimiter=',', skiprows=1)\n",
    "\n",
    "x = (csv[:,0])/2\n",
    "y = csv[:,1]\n",
    "\n",
    "figure(figsize=(10,4))\n",
    "plt.plot(x, y, drawstyle='steps', label='steps (=steps-pre)',color='teal', linewidth='4')\n",
    "plt.xlabel('Time (minutes)')\n",
    "plt.ylabel('Sleep Stage')\n",
    "y = ['Wake','N1','N2','N3','REM']\n",
    "plt.yticks(np.arange(len(y)), y, rotation=0)"
   ]
  },
  {
   "cell_type": "code",
   "execution_count": null,
   "id": "ruled-lucas",
   "metadata": {},
   "outputs": [],
   "source": []
  }
 ],
 "metadata": {
  "kernelspec": {
   "display_name": "Python 3",
   "language": "python",
   "name": "python3"
  },
  "language_info": {
   "codemirror_mode": {
    "name": "ipython",
    "version": 3
   },
   "file_extension": ".py",
   "mimetype": "text/x-python",
   "name": "python",
   "nbconvert_exporter": "python",
   "pygments_lexer": "ipython3",
   "version": "3.9.2"
  }
 },
 "nbformat": 4,
 "nbformat_minor": 5
}
