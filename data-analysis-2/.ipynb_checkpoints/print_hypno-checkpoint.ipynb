{
 "cells": [
  {
   "cell_type": "code",
   "execution_count": 6,
   "id": "strong-purple",
   "metadata": {},
   "outputs": [],
   "source": [
    "import numpy as np\n",
    "import matplotlib.pyplot as plt"
   ]
  },
  {
   "cell_type": "code",
   "execution_count": 13,
   "id": "assisted-parameter",
   "metadata": {},
   "outputs": [],
   "source": [
    "data = np.loadtxt(\"hypno_test.csv\", delimiter=',', skiprows=1)"
   ]
  },
  {
   "cell_type": "code",
   "execution_count": 54,
   "id": "prostate-uncle",
   "metadata": {},
   "outputs": [
    {
     "data": {
      "text/plain": [
       "([<matplotlib.axis.YTick at 0x1370b4c40>,\n",
       "  <matplotlib.axis.YTick at 0x1370b47f0>,\n",
       "  <matplotlib.axis.YTick at 0x1370b1670>,\n",
       "  <matplotlib.axis.YTick at 0x1370dd100>,\n",
       "  <matplotlib.axis.YTick at 0x1370dd610>],\n",
       " [Text(0, 0, 'Wake'),\n",
       "  Text(0, 1, 'N1'),\n",
       "  Text(0, 2, 'N2'),\n",
       "  Text(0, 3, 'N3'),\n",
       "  Text(0, 4, 'REM')])"
      ]
     },
     "execution_count": 54,
     "metadata": {},
     "output_type": "execute_result"
    },
    {
     "data": {
      "image/png": "[encoded data removed]",
      "text/plain": [
       "<Figure size 432x288 with 1 Axes>"
      ]
     },
     "metadata": {
      "needs_background": "light"
     },
     "output_type": "display_data"
    }
   ],
   "source": [
    "x = (data[:,0])/2\n",
    "y = data[:,1]\n",
    "\n",
    "figure(figsize=(10,4))\n",
    "plt.plot(x, y, drawstyle='steps', label='steps (=steps-pre)',color='teal', linewidth='4')\n",
    "plt.xlabel('Time (minutes)')\n",
    "plt.ylabel('Sleep Stage')\n",
    "y = ['Wake','N1','N2','N3','REM']\n",
    "plt.yticks(np.arange(len(y)), y, rotation=0)"
   ]
  },
  {
   "cell_type": "code",
   "execution_count": null,
   "id": "german-medicaid",
   "metadata": {},
   "outputs": [],
   "source": []
  }
 ],
 "metadata": {
  "kernelspec": {
   "display_name": "Python 3",
   "language": "python",
   "name": "python3"
  },
  "language_info": {
   "codemirror_mode": {
    "name": "ipython",
    "version": 3
   },
   "file_extension": ".py",
   "mimetype": "text/x-python",
   "name": "python",
   "nbconvert_exporter": "python",
   "pygments_lexer": "ipython3",
   "version": "3.9.2"
  }
 },
 "nbformat": 4,
 "nbformat_minor": 5
}